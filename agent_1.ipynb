{
 "cells": [
  {
   "cell_type": "markdown",
   "metadata": {},
   "source": [
    "### **첫 번째 에이전트, '날씨 요정' 완벽 해부**\n",
    "\n",
    "앞선 챕터에서 우리는 코딩을 위한 최소한의 준비를 마쳤습니다. 이제부터는 이 책에서 가장 흥미진진한 여정, 바로 우리 손으로 직접 AI 에이전트에게 생명을 불어넣는 과정을 함께 하겠습니다. 첫 번째 프로젝트는 작고 귀여운 '날씨 요정'입니다."
   ]
  },
  {
   "cell_type": "markdown",
   "metadata": {},
   "source": [
    "\n",
    "#### **[서두] 코드는 거들 뿐, 이야기에 집중해 주세요**\n",
    "\n",
    "잠깐만요\\! 본격적으로 시작하기 전에, 마음의 부담을 덜어드리는 안내 말씀을 먼저 드리고 싶습니다.\n",
    "\n",
    "아마 지금부터 보게 될 코드들은 낯선 기호와 단어들로 가득 차 있어 조금 당황스러우실 수 있습니다. 하지만 괜찮습니다. 다시 한번 강조하지만, **지금 우리의 목표는 코드를 한 줄 한 줄 외우거나 완벽하게 이해하는 것이 아닙니다.**\n",
    "\n",
    "그저 '아, 개발자들은 이런 명령들을 순서대로 실행시켜서 AI가 생각하고 행동하는 것처럼 보이게 만드는구나' 하는 **전체적인 이야기의 흐름을 느끼는 것**만으로도 충분합니다. 각 코드 덩어리가 어떤 '역할'을 하는지에 집중하며, 한 편의 조립 설명서를 읽는다는 가벼운 마음으로 따라와 주세요."
   ]
  },
  {
   "cell_type": "markdown",
   "metadata": {},
   "source": [
    "\n",
    "-----\n"
   ]
  },
  {
   "cell_type": "markdown",
   "metadata": {},
   "source": [
    "\n",
    "#### **[1단계] 우리의 목표: 날씨를 알려주고 옷차림도 추천하는 AI**\n",
    "\n",
    "우리가 만들 '날씨 요정'은 아주 구체적이고 명확한 임무를 가지고 있습니다.\n",
    "\n",
    "> **🎯 최종 목표:** 우리가 \"오늘 서울 날씨 어때?\" 라고 물으면, AI가 스스로 날씨를 파악한 뒤, \"오늘 서울의 날씨는 맑고 15도입니다. 가벼운 외투를 챙기시는 게 좋겠어요\\!\" 처럼 날씨 정보와 함께 그에 맞는 옷차림까지 추천해주는 것입니다.\n",
    "\n",
    "그냥 \"날씨 알려줘\"가 아니라, 날씨라는 정보를 **바탕으로** 옷차림을 **추천**하는 한 단계 더 나아간 임무입니다. 이것이 바로 단순 챗봇을 넘어선 에이전트의 시작입니다.\n"
   ]
  },
  {
   "cell_type": "markdown",
   "metadata": {},
   "source": [
    "\n",
    "-----\n"
   ]
  },
  {
   "cell_type": "markdown",
   "metadata": {},
   "source": [
    "\n",
    "#### **[2단계] 도구 제작 및 등록: AI에게 '날씨 검색 능력' 주기**\n",
    "\n",
    "똑똑한 GPT도 '오늘'의 실시간 날씨는 알지 못합니다. 그래서 우리는 AI에게 날씨를 검색할 수 있는 특별한 능력을 직접 만들어 선물해야 합니다.\n"
   ]
  },
  {
   "cell_type": "markdown",
   "metadata": {},
   "source": [
    "\n",
    "##### **'미니 로봇' 만들기: get\\_current\\_weather 함수**\n",
    "\n",
    "코딩 세계에서는 특정 임무를 수행하는 코드 묶음을 **함수(Function)** 라고 부릅니다. 우리는 이것을 **'특별한 임무를 수행하는 미니 로봇'** 이라고 부르기로 하죠. 우리의 첫 번째 미니 로봇은 날씨를 검색하는 임무를 맡을 겁니다.\n"
   ]
  },
  {
   "cell_type": "markdown",
   "metadata": {},
   "source": [
    "\n",
    "```python\n",
    "# 'get_current_weather' 라는 이름의 '날씨 검색 로봇'을 만듭니다.\n",
    "# 이 로봇은 '도시 이름(location)'을 알려주면, 그 도시의 날씨를 알려주는 역할을 합니다.\n",
    "def get_current_weather(location):\n",
    "    \"\"\"지정된 도시의 현재 날씨 정보를 가져오는 가짜 함수입니다.\"\"\"\n",
    "    # 실제 프로그램이라면 여기서 날씨 웹사이트에 접속하겠지만,\n",
    "    # 우리는 간단한 실습을 위해 날씨 정보를 미리 정해둡니다.\n",
    "    if \"서울\" in location:\n",
    "        return {\"location\": \"서울\", \"temperature\": \"15\", \"forecast\": \"맑음\"}\n",
    "    else:\n",
    "        return {\"location\": location, \"temperature\": \"알 수 없음\"}\n",
    "```\n"
   ]
  },
  {
   "cell_type": "markdown",
   "metadata": {},
   "source": [
    "\n",
    "이 코드는 \"서울\"이라는 도시 이름이 들어오면, 정해진 날씨 정보를 돌려주는 아주 간단한 로봇입니다. 이제 이 로봇을 AI가 쓸 수 있도록 시스템에 등록해야 합니다.\n"
   ]
  },
  {
   "cell_type": "markdown",
   "metadata": {},
   "source": [
    "\n",
    "##### **'도구 등록 신청서' 작성하기: tools 딕셔너리**\n",
    "\n",
    "AI에게 \"너 이제부터 이 로봇을 쓸 수 있어!\"라고 알려주려면, **'도구 등록 신청서'** 를 작성해서 제출해야 합니다. 이 신청서가 바로 `tools` 라는 변수에 담기는 내용입니다. 복잡해 보이지만, 각 항목의 역할을 알고 나면 훨씬 이해하기 쉽습니다.\n",
    "\n",
    "**📜 도구 등록 신청서 (`tools` 변수)**\n",
    "\n",
    "| 신청서 항목 | 코드 예시 | 역할 설명 (가장 중요\\!) |\n",
    "| :--- | :--- | :--- |\n",
    "| **1. 도구의 종류** | `\"type\": \"function\"` | \"이 도구는 '함수'라는 종류의 도구입니다.\" 라고 알려줍니다. |\n",
    "| **2. 도구의 이름표** | `\"name\": \"get_current_weather\"` | AI가 이 도구를 부를 때 사용할 공식 이름입니다. |\n",
    "| **3. 도구 사용 설명서** | `\"description\": \"특정 도시의 현재 날씨를 알려줍니다.\"` | **⭐가장 중요⭐** AI는 바로 이 설명을 보고 사용자가 날씨를 물어봤을 때 \"아\\! 이 도구를 써야겠구나\\!\" 하고 판단합니다. |\n",
    "| **4. 필요한 정보 목록** | `\"parameters\": { ... }` | 이 도구를 사용하기 위해 반드시 필요한 정보가 무엇인지 적는 부분입니다. |\n",
    "| **4-1. 정보의 이름** | `\"location\": { ... }` | '도시 이름(location)' 정보가 필요하다고 알려줍니다. |\n",
    "| **4-2. 정보의 형식** | `\"type\": \"string\"` | 도시 이름은 '글자(string)' 형식이어야 한다고 명시합니다. |\n",
    "\n",
    "이 신청서를 꼼꼼하게 작성해야, AI가 혼동 없이 정확하게 도구를 사용할 수 있게 됩니다.\n"
   ]
  },
  {
   "cell_type": "markdown",
   "metadata": {},
   "source": [
    "\n",
    "-----\n"
   ]
  },
  {
   "cell_type": "markdown",
   "metadata": {},
   "source": [
    "\n",
    "#### **[3단계] 생각의 흐름 따라가기: 에이전트의 작동 시나리오**\n",
    "\n",
    "이제 모든 준비가 끝났습니다. 사용자의 질문 하나가 어떤 과정을 거쳐 최종 답변으로 완성되는지, 그 흥미진진한 생각의 흐름을 따라가 보겠습니다. 아래 전체 코드는 이 모든 과정을 담고 있습니다.\n"
   ]
  },
  {
   "cell_type": "markdown",
   "metadata": {},
   "source": [
    "\n",
    "##### **'날씨 요정' 에이전트 전체 코드**\n"
   ]
  },
  {
   "cell_type": "markdown",
   "metadata": {},
   "source": [
    "\n",
    "```python\n",
    "import openai\n",
    "import json\n",
    "\n",
    "# --- 준비 과정 ---\n",
    "# AI 두뇌(GPT)를 사용할 수 있는 비밀 열쇠(API 키)를 준비합니다.\n",
    "client = openai.OpenAI(api_key=\"여러분의_API_키\")\n",
    "\n",
    "# --- 도구 제작: '날씨 검색 로봇' (함수) ---\n",
    "def get_current_weather(location):\n",
    "    \"\"\"지정된 도시의 현재 날씨 정보를 가져오는 가짜 함수입니다.\"\"\"\n",
    "    print(f\"🛠️ [도구 실행] 'get_current_weather' 로봇이 '{location}'의 날씨를 검색합니다.\")\n",
    "    if \"서울\" in location:\n",
    "        # AI가 이해하기 쉬운 '표준 서식 택배 상자'(JSON)로 정보를 포장합니다.\n",
    "        return json.dumps({\"location\": \"서울\", \"temperature\": \"15\", \"forecast\": \"맑음\"})\n",
    "    else:\n",
    "        return json.dumps({\"location\": location, \"temperature\": \"알 수 없음\"})\n",
    "\n",
    "# --- 에이전트 실행 ---\n",
    "def run_weather_agent(user_question):\n",
    "    print(f\"😎 사용자 질문: {user_question}\\n\")\n",
    "\n",
    "    # [1차 호출] AI에게 질문과 도구 설명서를 전달하여 생각을 요청합니다.\n",
    "    print(\"🧠 [1차 호출] AI, 이 질문을 보고 어떤 도구를 쓸지 결정해줘!\")\n",
    "    response = client.chat.completions.create(\n",
    "        model=\"gpt-4o\",\n",
    "        messages=[{\"role\": \"user\", \"content\": user_question}],\n",
    "        tools=[{ # '도구 등록 신청서' 제출\n",
    "            \"type\": \"function\",\n",
    "            \"function\": {\n",
    "                \"name\": \"get_current_weather\",\n",
    "                \"description\": \"특정 도시의 현재 날씨를 알려줍니다.\",\n",
    "                \"parameters\": {\n",
    "                    \"type\": \"object\",\n",
    "                    \"properties\": {\n",
    "                        \"location\": {\"type\": \"string\", \"description\": \"날씨를 알고 싶은 도시 이름, 예: 서울\"},\n",
    "                    },\n",
    "                    \"required\": [\"location\"],\n",
    "                },\n",
    "            },\n",
    "        }],\n",
    "        tool_choice=\"auto\",\n",
    "    )\n",
    "    \n",
    "    response_message = response.choices[0].message\n",
    "\n",
    "    # AI가 도구를 사용하겠다고 결정했는지 확인합니다.\n",
    "    if response_message.tool_calls:\n",
    "        print(\"✅ AI 응답: '날씨 검색 로봇'을 사용해야겠어요!\\n\")\n",
    "        \n",
    "        # [도구 실행] AI의 요청에 따라 '날씨 검색 로봇'을 실제로 작동시킵니다.\n",
    "        tool_call = response_message.tool_calls[0]\n",
    "        function_name = tool_call.function.name\n",
    "        function_args = json.loads(tool_call.function.arguments)\n",
    "        \n",
    "        # '날씨 검색 로봇'을 실행하고 결과를 받습니다.\n",
    "        function_response = get_current_weather(location=function_args.get(\"location\"))\n",
    "        print(f\"📄 [도구 결과] 검색 결과: {function_response}\\n\")\n",
    "\n",
    "        # [2차 호출] 도구 실행 결과를 AI에게 전달하며, 최종 답변을 만들어달라고 요청합니다.\n",
    "        print(\"🧠 [2차 호출] AI, 날씨 정보를 찾았어. 이걸로 멋진 답변을 만들어줘!\")\n",
    "        second_response = client.chat.completions.create(\n",
    "            model=\"gpt-4o\",\n",
    "            messages=[\n",
    "                {\"role\": \"user\", \"content\": user_question},\n",
    "                response_message, # AI의 첫번째 응답 (도구를 쓰겠다는 결정)\n",
    "                { # 도구를 실행한 결과\n",
    "                    \"tool_call_id\": tool_call.id,\n",
    "                    \"role\": \"tool\",\n",
    "                    \"name\": function_name,\n",
    "                    \"content\": function_response,\n",
    "                },\n",
    "            ],\n",
    "        )\n",
    "        \n",
    "        final_answer = second_response.choices[0].message.content\n",
    "        return final_answer\n",
    "    else:\n",
    "        return response_message.content\n",
    "\n",
    "# --- 최종 실행 및 성공 확인 ---\n",
    "final_result = run_weather_agent(\"오늘 서울 날씨 어때? 그리고 날씨에 맞는 옷차림도 추천해줘.\")\n",
    "print(\"\\n🎉 [최종 답변] 날씨 요정의 답변입니다!\")\n",
    "print(final_result)\n",
    "```\n"
   ]
  },
  {
   "cell_type": "markdown",
   "metadata": {},
   "source": [
    "\n",
    "##### **작동 순서 시각화 (Flowchart)**\n",
    "\n",
    "코드가 복잡하게 느껴진다면, 아래의 순서도를 통해 전체 흐름을 한눈에 파악해 보세요.\n"
   ]
  },
  {
   "cell_type": "markdown",
   "metadata": {},
   "source": [
    "```\n",
    "(시작)\n",
    "   |\n",
    "   V\n",
    "😎 사용자: \"서울 날씨 어때?\"\n",
    "   |\n",
    "   V\n",
    "[🧠 1차 API 호출]  (프로그램 -> AI)\n",
    "\"이 질문이랑 '날씨 검색 도구 설명서'야. 어떻게 할지 알려줘!\"\n",
    "   |\n",
    "   V\n",
    "✅ AI 응답: (AI -> 프로그램)\n",
    "\"알겠어. 'get_current_weather' 도구를 '서울'이라는 정보와 함께 실행해줘!\"\n",
    "   |\n",
    "   V\n",
    "[🛠️ 도구 실행] (프로그램 내부)\n",
    "'날씨 검색 로봇'이 실제로 작동하여 \"서울 날씨는 15도, 맑음\" 이라는 결과를 얻음.\n",
    "   |\n",
    "   V\n",
    "[🧠 2차 API 호출] (프로그램 -> AI)\n",
    "\"네가 시킨 대로 했더니 '서울 날씨는 15도, 맑음'이라는 결과를 얻었어. 이걸로 사용자에게 최종 답변을 만들어줘!\"\n",
    "   |\n",
    "   V\n",
    "🎉 최종 답변 생성: (AI -> 프로그램)\n",
    "\"오늘 서울의 날씨는 맑고 15도입니다. 가벼운 외투를 챙기시는 게 좋겠어요!\"\n",
    "   |\n",
    "   V\n",
    "(종료)\n",
    "```\n"
   ]
  },
  {
   "cell_type": "markdown",
   "metadata": {},
   "source": [
    "\n",
    "#### **[마무리] 첫 번째 성공의 기쁨\\!**\n",
    "\n",
    "위 코드를 실행하면, 여러분은 마침내 AI가 스스로 도구를 사용하여 정보를 찾아내고, 그 정보를 바탕으로 새로운 가치를 창출하는 놀라운 순간을 목격하게 됩니다.\n",
    "\n",
    "> **🎉 [최종 답변] 날씨 요정의 답변입니다\\!**\n",
    "> 오늘 서울의 날씨는 맑고 15도입니다. 낮에는 따뜻하겠지만, 아침저녁으로는 쌀쌀할 수 있으니 가벼운 외투나 카디건을 챙기시는 게 좋겠습니다.\n",
    "\n",
    "축하합니다\\! 여러분은 방금 AI 에이전트의 가장 핵심적인 원리를 이해하고 직접 구현해냈습니다. 단순히 정보를 묻고 답하는 것을 넘어, AI가 목표를 달성하기 위해 **스스로 판단하고(도구 사용 결정), 행동하고(도구 실행), 결과를 종합하여(최종 답변 생성)** 문제를 해결하는 이 놀라운 패턴을 꼭 기억해 주세요. 이 경험이 바로 앞으로 우리가 만나게 될 더 똑똑하고 유능한 에이전트들을 이해하는 튼튼한 기초가 될 것입니다."
   ]
  },
  {
   "cell_type": "markdown",
   "metadata": {},
   "source": [
    "---"
   ]
  },
  {
   "cell_type": "markdown",
   "metadata": {},
   "source": [
    "### 코드 실행"
   ]
  },
  {
   "cell_type": "code",
   "execution_count": 2,
   "metadata": {},
   "outputs": [
    {
     "name": "stdout",
     "output_type": "stream",
     "text": [
      "😎 사용자 질문: 오늘 서울 날씨 어때? 그리고 날씨에 맞는 옷차림도 추천해줘.\n",
      "\n",
      "🧠 [1차 호출] AI, 이 질문을 보고 어떤 도구를 쓸지 결정해줘!\n",
      "✅ AI 응답: '날씨 검색 로봇'을 사용해야겠어요!\n",
      "\n",
      "🛠️ [도구 실행] 'get_current_weather' 로봇이 '서울'의 날씨를 검색합니다.\n",
      "📄 [도구 결과] 검색 결과: {\"location\": \"\\uc11c\\uc6b8\", \"temperature\": \"15\", \"forecast\": \"\\ub9d1\\uc74c\"}\n",
      "\n",
      "🧠 [2차 호출] AI, 날씨 정보를 찾았어. 이걸로 멋진 답변을 만들어줘!\n",
      "\n",
      "🎉 [최종 답변] 날씨 요정의 답변입니다!\n",
      "오늘 서울의 날씨는 맑고 기온은 약 15도입니다. 이런 날씨에는 가벼운 재킷이나 가디건을 걸치면 좋습니다. 아침 저녁으로는 조금 쌀쌀할 수 있으니 얇은 스카프나 니트도 추천합니다.\n"
     ]
    }
   ],
   "source": [
    "import openai\n",
    "import json\n",
    "import os\n",
    "\n",
    "# --- 준비 과정 ---\n",
    "# AI 두뇌(GPT)를 사용할 수 있는 비밀 열쇠(API 키)를 준비합니다.\n",
    "# client = openai.OpenAI(api_key=\"여러분의_API_키\")\n",
    "client = openai.OpenAI(api_key=os.getenv(\"OPENAI_API_KEY\"))\n",
    "\n",
    "\n",
    "# --- 도구 제작: '날씨 검색 로봇' (함수) ---\n",
    "def get_current_weather(location):\n",
    "    \"\"\"지정된 도시의 현재 날씨 정보를 가져오는 가짜 함수입니다.\"\"\"\n",
    "    print(f\"🛠️ [도구 실행] 'get_current_weather' 로봇이 '{location}'의 날씨를 검색합니다.\")\n",
    "    if \"서울\" in location:\n",
    "        # AI가 이해하기 쉬운 '표준 서식 택배 상자'(JSON)로 정보를 포장합니다.\n",
    "        return json.dumps({\"location\": \"서울\", \"temperature\": \"15\", \"forecast\": \"맑음\"})\n",
    "    else:\n",
    "        return json.dumps({\"location\": location, \"temperature\": \"알 수 없음\"})\n",
    "\n",
    "# --- 에이전트 실행 ---\n",
    "def run_weather_agent(user_question):\n",
    "    print(f\"😎 사용자 질문: {user_question}\\n\")\n",
    "\n",
    "    # [1차 호출] AI에게 질문과 도구 설명서를 전달하여 생각을 요청합니다.\n",
    "    print(\"🧠 [1차 호출] AI, 이 질문을 보고 어떤 도구를 쓸지 결정해줘!\")\n",
    "    response = client.chat.completions.create(\n",
    "        model=\"gpt-4o\",\n",
    "        messages=[{\"role\": \"user\", \"content\": user_question}],\n",
    "        tools=[{ # '도구 등록 신청서' 제출\n",
    "            \"type\": \"function\",\n",
    "            \"function\": {\n",
    "                \"name\": \"get_current_weather\",\n",
    "                \"description\": \"특정 도시의 현재 날씨를 알려줍니다.\",\n",
    "                \"parameters\": {\n",
    "                    \"type\": \"object\",\n",
    "                    \"properties\": {\n",
    "                        \"location\": {\"type\": \"string\", \"description\": \"날씨를 알고 싶은 도시 이름, 예: 서울\"},\n",
    "                    },\n",
    "                    \"required\": [\"location\"],\n",
    "                },\n",
    "            },\n",
    "        }],\n",
    "        tool_choice=\"auto\",\n",
    "    )\n",
    "    \n",
    "    response_message = response.choices[0].message\n",
    "\n",
    "    # AI가 도구를 사용하겠다고 결정했는지 확인합니다.\n",
    "    if response_message.tool_calls:\n",
    "        print(\"✅ AI 응답: '날씨 검색 로봇'을 사용해야겠어요!\\n\")\n",
    "        \n",
    "        # [도구 실행] AI의 요청에 따라 '날씨 검색 로봇'을 실제로 작동시킵니다.\n",
    "        tool_call = response_message.tool_calls[0]\n",
    "        function_name = tool_call.function.name\n",
    "        function_args = json.loads(tool_call.function.arguments)\n",
    "        \n",
    "        # '날씨 검색 로봇'을 실행하고 결과를 받습니다.\n",
    "        function_response = get_current_weather(location=function_args.get(\"location\"))\n",
    "        print(f\"📄 [도구 결과] 검색 결과: {function_response}\\n\")\n",
    "\n",
    "        # [2차 호출] 도구 실행 결과를 AI에게 전달하며, 최종 답변을 만들어달라고 요청합니다.\n",
    "        print(\"🧠 [2차 호출] AI, 날씨 정보를 찾았어. 이걸로 멋진 답변을 만들어줘!\")\n",
    "        second_response = client.chat.completions.create(\n",
    "            model=\"gpt-4o\",\n",
    "            messages=[\n",
    "                {\"role\": \"user\", \"content\": user_question},\n",
    "                response_message, # AI의 첫번째 응답 (도구를 쓰겠다는 결정)\n",
    "                { # 도구를 실행한 결과\n",
    "                    \"tool_call_id\": tool_call.id,\n",
    "                    \"role\": \"tool\",\n",
    "                    \"name\": function_name,\n",
    "                    \"content\": function_response,\n",
    "                },\n",
    "            ],\n",
    "        )\n",
    "        \n",
    "        final_answer = second_response.choices[0].message.content\n",
    "        return final_answer\n",
    "    else:\n",
    "        return response_message.content\n",
    "\n",
    "# --- 최종 실행 및 성공 확인 ---\n",
    "final_result = run_weather_agent(\"오늘 서울 날씨 어때? 그리고 날씨에 맞는 옷차림도 추천해줘.\")\n",
    "print(\"\\n🎉 [최종 답변] 날씨 요정의 답변입니다!\")\n",
    "print(final_result)"
   ]
  }
 ],
 "metadata": {
  "kernelspec": {
   "display_name": "base",
   "language": "python",
   "name": "python3"
  },
  "language_info": {
   "codemirror_mode": {
    "name": "ipython",
    "version": 3
   },
   "file_extension": ".py",
   "mimetype": "text/x-python",
   "name": "python",
   "nbconvert_exporter": "python",
   "pygments_lexer": "ipython3",
   "version": "3.11.7"
  }
 },
 "nbformat": 4,
 "nbformat_minor": 2
}

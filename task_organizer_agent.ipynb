{
 "cells": [
  {
   "cell_type": "code",
   "execution_count": 1,
   "metadata": {},
   "outputs": [],
   "source": [
    "import openai\n",
    "import json\n",
    "import os\n",
    "\n",
    "client = openai.OpenAI(api_key=os.getenv(\"OPENAI_API_KEY\"))\n",
    "todo_list = []"
   ]
  },
  {
   "cell_type": "code",
   "execution_count": 2,
   "metadata": {},
   "outputs": [],
   "source": [
    "def add_task(task_description):\n",
    "    \"\"\"'할 일 목록(To-Do List)'에 새로운 할 일을 추가합니다.\"\"\"\n",
    "    print(f\"   (🛠️ 도구 실행: '{task_description}' 항목을 메모장에 기록합니다.)\")\n",
    "    todo_list.append(task_description)\n",
    "    return json.dumps({\"status\": \"성공\"})"
   ]
  },
  {
   "cell_type": "code",
   "execution_count": 3,
   "metadata": {},
   "outputs": [],
   "source": [
    "def view_tasks():\n",
    "    \"\"\"'할 일 목록'에 있는 모든 항목을 보여줍니다.\"\"\"\n",
    "    print(\"   (🛠️ 도구 실행: 메모장의 모든 할 일을 확인합니다.)\")\n",
    "    return json.dumps({\"tasks\": todo_list})"
   ]
  },
  {
   "cell_type": "code",
   "execution_count": 4,
   "metadata": {},
   "outputs": [],
   "source": [
    "# AI에게 제출할 '도구 등록 신청서' 목록을 준비합니다.\n",
    "tools = [\n",
    "    {\n",
    "        \"type\": \"function\",\n",
    "        \"function\": {\n",
    "            \"name\": \"add_task\",\n",
    "            \"description\": \"할 일 목록(To-Do List)에 새로운 할 일을 추가합니다.\",\n",
    "            \"parameters\": {\n",
    "                \"type\": \"object\",\n",
    "                \"properties\": {\n",
    "                    \"task_description\": {\n",
    "                        \"type\": \"string\",\n",
    "                        \"description\": \"추가할 할 일의 내용\",\n",
    "                    }\n",
    "                },\n",
    "                \"required\": [\"task_description\"],\n",
    "            },\n",
    "        },\n",
    "    },\n",
    "    {\n",
    "        \"type\": \"function\",\n",
    "        \"function\": {\n",
    "            \"name\": \"view_tasks\",\n",
    "            \"description\": \"할 일 목록에 있는 모든 항목을 보여줍니다.\",\n",
    "            \"parameters\": {\"type\": \"object\", \"properties\": {}},\n",
    "        },\n",
    "    },\n",
    "]"
   ]
  },
  {
   "cell_type": "code",
   "execution_count": 5,
   "metadata": {},
   "outputs": [],
   "source": [
    "def process_conversation_turn(messages, user_input):\n",
    "    print(f\"😎 사용자: {user_input}\")\n",
    "    messages.append({\"role\": \"user\", \"content\": user_input})\n",
    "\n",
    "    response = client.chat.completions.create(\n",
    "        model=\"gpt-4o\", messages=messages, tools=tools, tool_choice=\"auto\"\n",
    "    )\n",
    "    response_message = response.choices[0].message\n",
    "    messages.append(response_message)\n",
    "\n",
    "    if response_message.tool_calls:\n",
    "        # 사용 가능한 도구들을 이름으로 쉽게 찾아 쓸 수 있도록 딕셔너리로 만듭니다.\n",
    "        available_functions = {\"add_task\": add_task, \"view_tasks\": view_tasks}\n",
    "\n",
    "        for tool_call in response_message.tool_calls:\n",
    "            function_name = tool_call.function.name\n",
    "            function_to_call = available_functions[function_name]\n",
    "            function_args = json.loads(tool_call.function.arguments)\n",
    "\n",
    "            # 실제 도구(함수)를 실행하고 결과를 받습니다.\n",
    "            function_response = function_to_call(**function_args)\n",
    "\n",
    "            # **[가장 중요!]** 도구 실행 결과를 API 규칙에 맞게 대화 기록부에 추가합니다.\n",
    "            messages.append(\n",
    "                {\n",
    "                    \"tool_call_id\": tool_call.id,\n",
    "                    \"role\": \"tool\",\n",
    "                    \"name\": function_name,\n",
    "                    \"content\": function_response,\n",
    "                }\n",
    "            )\n",
    "\n",
    "            # 3. 도구 실행 후, 최종적으로 사용자에게 보여줄 자연스러운 답변을 AI에게 다시 요청합니다.\n",
    "            final_response = client.chat.completions.create(\n",
    "                model=\"gpt-4o\", \n",
    "                messages=messages\n",
    "            )\n",
    "            print(f\"🎉 AI 비서: {final_response.choices[0].message.content}\\n\")\n",
    "    else:\n",
    "        # 도구를 사용하지 않았다면 AI의 첫 응답을 그대로 출력합니다.\n",
    "        print(f\"🎉 AI 비서: {response_message.content}\\n\")\n",
    "\n",
    "    return messages"
   ]
  },
  {
   "cell_type": "code",
   "execution_count": 6,
   "metadata": {},
   "outputs": [
    {
     "name": "stdout",
     "output_type": "stream",
     "text": [
      "--- 대화 시작 ---\n",
      "\n",
      "😎 사용자: 내일 아침 9시 팀 회의 일정 추가해줘.\n",
      "   (🛠️ 도구 실행: '내일 아침 9시 팀 회의' 항목을 메모장에 기록합니다.)\n",
      "🎉 AI 비서: 팀 회의 일정이 내일 아침 9시로 추가되었습니다. 다른 도움이 필요하시면 말씀해 주세요!\n",
      "\n"
     ]
    }
   ],
   "source": [
    "messages = [{\"role\": \"system\", \"content\": \"너는 유능한 할 일 관리 비서야. 사용자의 요청에 따라 할 일을 추가하거나 목록을 보여줘. 모든 작업 후에는 사용자에게 친절하게 완료 사실을 알려줘.\"}]\n",
    "print(\"--- 대화 시작 ---\\n\")\n",
    "\n",
    "# 첫 번째 대화: '팀 회의' 추가\n",
    "messages = process_conversation_turn(messages, \"내일 아침 9시 팀 회의 일정 추가해줘.\")\n"
   ]
  },
  {
   "cell_type": "code",
   "execution_count": 7,
   "metadata": {},
   "outputs": [
    {
     "name": "stdout",
     "output_type": "stream",
     "text": [
      "😎 사용자: 그리고 오후에 책 반납하는 것도 잊지 말고.\n",
      "   (🛠️ 도구 실행: '오후에 책 반납' 항목을 메모장에 기록합니다.)\n",
      "🎉 AI 비서: 팀 회의 일정과 책 반납 일정이 성공적으로 추가되었습니다. 다른 할 일이 필요하시면 언제든지 말씀해 주세요!\n",
      "\n"
     ]
    }
   ],
   "source": [
    "# 두 번째 대화: '책 반납' 추가\n",
    "messages = process_conversation_turn(messages, \"그리고 오후에 책 반납하는 것도 잊지 말고.\")"
   ]
  },
  {
   "cell_type": "code",
   "execution_count": 8,
   "metadata": {},
   "outputs": [
    {
     "name": "stdout",
     "output_type": "stream",
     "text": [
      "😎 사용자: 지금까지 할 일 목록 좀 보여줘.\n",
      "   (🛠️ 도구 실행: 메모장의 모든 할 일을 확인합니다.)\n",
      "🎉 AI 비서: 현재 할 일 목록은 다음과 같습니다:\n",
      "\n",
      "1. 내일 아침 9시 팀 회의\n",
      "2. 오후에 책 반납\n",
      "\n",
      "도움이 필요하면 언제든지 말씀해 주세요!\n",
      "\n"
     ]
    }
   ],
   "source": [
    "# 세 번째 대화: 할 일 목록 조회\n",
    "messages = process_conversation_turn(messages, \"지금까지 할 일 목록 좀 보여줘.\")"
   ]
  },
  {
   "cell_type": "code",
   "execution_count": 9,
   "metadata": {},
   "outputs": [
    {
     "name": "stdout",
     "output_type": "stream",
     "text": [
      "--- 대화 종료 후 최종 메모장 상태 ---\n",
      "['내일 아침 9시 팀 회의', '오후에 책 반납']\n"
     ]
    }
   ],
   "source": [
    "# --- 최종 결과 확인 ---\n",
    "print(\"--- 대화 종료 후 최종 메모장 상태 ---\")\n",
    "print(todo_list)"
   ]
  },
  {
   "cell_type": "code",
   "execution_count": null,
   "metadata": {},
   "outputs": [],
   "source": []
  }
 ],
 "metadata": {
  "kernelspec": {
   "display_name": "base",
   "language": "python",
   "name": "python3"
  },
  "language_info": {
   "codemirror_mode": {
    "name": "ipython",
    "version": 3
   },
   "file_extension": ".py",
   "mimetype": "text/x-python",
   "name": "python",
   "nbconvert_exporter": "python",
   "pygments_lexer": "ipython3",
   "version": "3.11.7"
  }
 },
 "nbformat": 4,
 "nbformat_minor": 2
}
